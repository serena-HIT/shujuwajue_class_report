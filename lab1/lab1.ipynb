{
 "cells": [
  {
   "cell_type": "markdown",
   "id": "e4b41ac8",
   "metadata": {},
   "source": [
    "# 数据挖掘算法与应用实验1\n",
    "学号：24B918010\n",
    "\n",
    "姓名：王起凡\n",
    "\n",
    "## 环境配置\n",
    "1. 安装python。\n",
    "2. 配置.ipynb文件的运行环境。在命令行中输入：pip install notebook或者pip install jupyterlab，之后在文件目录下输入jupyter notebook\n",
    "或jupyter lab即可启动 Jupyter 环境。\n",
    "3. 安装相关库，在命令行中输入：pip install pandas numpy matplotlib scikit-learn openpyxl xlsxwriter。\n",
    "## 要求\n",
    "请将单元格内容补全，并输出执行结果"
   ]
  },
  {
   "cell_type": "code",
   "execution_count": 1,
   "id": "dda0ce49",
   "metadata": {},
   "outputs": [],
   "source": [
    "import pandas as pd\n",
    "import numpy as np"
   ]
  },
  {
   "cell_type": "code",
   "execution_count": 2,
   "id": "6a3bdbeb",
   "metadata": {},
   "outputs": [],
   "source": [
    "from pandas import Series, DataFrame"
   ]
  },
  {
   "cell_type": "markdown",
   "id": "9a34db96",
   "metadata": {},
   "source": [
    "# 创建Series"
   ]
  },
  {
   "cell_type": "code",
   "execution_count": 6,
   "id": "33f23005",
   "metadata": {
    "scrolled": true
   },
   "outputs": [],
   "source": [
    "#Series是一种类似于一维数组的对象，它由一组数据（各种NumPy数据类型）以及一组与之相关的数据标签（即索引）组成。\n",
    "#你可以自己定义一个列表，并使用它创建Series，命名为obj。\n",
    "#TODO\n",
    "data = [0.4, -71000, -1600, 500]\n",
    "# 创建Series\n",
    "obj = pd.Series(data)"
   ]
  },
  {
   "cell_type": "code",
   "execution_count": 7,
   "id": "3e2828f7",
   "metadata": {},
   "outputs": [],
   "source": [
    "sdata = {'Ohio': 35000, 'Texas': 71000, 'Oregon': 16000, 'Utah': 5000}\n",
    "#如果数据被存放在一个Python字典中，也可以直接通过这个字典来创建Series：\n",
    "#TODO\n",
    "obj = pd.Series(sdata)"
   ]
  },
  {
   "cell_type": "code",
   "execution_count": 8,
   "id": "d5a65fe3",
   "metadata": {},
   "outputs": [],
   "source": [
    "#如果只传入一个字典，则结果Series中的索引就是原字典的键（有序排列）。你可以传入排好序的字典的键以改变顺序：\n",
    "states = ['California', 'Ohio', 'Oregon', 'Texas']\n",
    "#你可以创建series的时候将键值指定为states\n",
    "#TODO\n",
    "obj = pd.Series(sdata, index=states)"
   ]
  },
  {
   "cell_type": "code",
   "execution_count": null,
   "id": "b7c52c4f",
   "metadata": {},
   "outputs": [
    {
     "name": "stdout",
     "output_type": "stream",
     "text": [
      "California     True\n",
      "Ohio          False\n",
      "Oregon        False\n",
      "Texas         False\n",
      "dtype: bool\n",
      "California    False\n",
      "Ohio           True\n",
      "Oregon         True\n",
      "Texas          True\n",
      "dtype: bool\n"
     ]
    }
   ],
   "source": [
    "#针对上一个单元格的执行结果，使用缺失（missing）或NA表示缺失数据。pandas的isnull和notnull函数可用于检测缺失数据：\n",
    "#TODO\n",
    "print(obj.isnull())  \n",
    "print(obj.notnull())  "
   ]
  },
  {
   "cell_type": "code",
   "execution_count": 5,
   "id": "fb11e16f",
   "metadata": {},
   "outputs": [
    {
     "name": "stdout",
     "output_type": "stream",
     "text": [
      "{'Ohio': 35000, 'Texas': 71000, 'Oregon': 16000, 'Utah': 5000}\n"
     ]
    }
   ],
   "source": [
    "#输出大于0的所有obj\n",
    "#TODO\n",
    "sdata = {'Ohio': 35000, 'Texas': 71000, 'Oregon': 16000, 'Utah': 5000}\n",
    "filtered_data = {key: value for key, value in sdata.items() if value > 0}\n",
    "print(filtered_data)"
   ]
  },
  {
   "cell_type": "markdown",
   "id": "eb4178e0",
   "metadata": {},
   "source": [
    "# 创建dataframe\n",
    "DataFrame是一个表格型的数据结构，它含有一组有序的列，每列可以是不同的值类型（数值、字符串、布尔值等）。DataFrame既有行索引也有列索引，它可以被看做由Series组成的字典（共用同一个索引）。DataFrame中的数据是以一个或多个二维块存放的（而不是列表、字典或别的一维数据结构）。"
   ]
  },
  {
   "cell_type": "code",
   "execution_count": 10,
   "id": "4d23d629",
   "metadata": {},
   "outputs": [],
   "source": [
    "#建DataFrame的办法有很多，最常用的一种是直接传入一个由等长列表或NumPy数组组成的字典：\n",
    "data = {'state': ['Ohio', 'Ohio', 'Ohio', 'Nevada', 'Nevada', 'Nevada'],\n",
    "        'year': [2000, 2001, 2002, 2001, 2002, 2003],\n",
    "        'pop': [1.5, 1.7, 3.6, 2.4, 2.9, 3.2]}\n"
   ]
  },
  {
   "cell_type": "code",
   "execution_count": 11,
   "id": "4011ed21",
   "metadata": {},
   "outputs": [],
   "source": [
    "#使用data创建一个dataframe，将其命名为frame\n",
    "#TODO\n",
    "frame = pd.DataFrame(data)"
   ]
  },
  {
   "cell_type": "code",
   "execution_count": 12,
   "id": "14d90bdd",
   "metadata": {},
   "outputs": [
    {
     "name": "stdout",
     "output_type": "stream",
     "text": [
      "    state  year  pop\n",
      "0    Ohio  2000  1.5\n",
      "1    Ohio  2001  1.7\n",
      "2    Ohio  2002  3.6\n",
      "3  Nevada  2001  2.4\n",
      "4  Nevada  2002  2.9\n"
     ]
    }
   ],
   "source": [
    "#使用dataframe.head()函数查看frame首部的几行。\n",
    "#TODO\n",
    "print(frame.head())"
   ]
  },
  {
   "cell_type": "code",
   "execution_count": 13,
   "id": "abc3a620",
   "metadata": {},
   "outputs": [
    {
     "name": "stdout",
     "output_type": "stream",
     "text": [
      "       year   state  pop debt\n",
      "one    2000    Ohio  1.5  NaN\n",
      "two    2001    Ohio  1.7  NaN\n",
      "three  2002    Ohio  3.6  NaN\n",
      "four   2001  Nevada  2.4  NaN\n",
      "five   2002  Nevada  2.9  NaN\n",
      "six    2003  Nevada  3.2  NaN\n"
     ]
    }
   ],
   "source": [
    "#如果传入的列在数据中找不到，就会在结果中产生缺失值：\n",
    "#使用data创建一个dataframe，指定columns为['year', 'state', 'pop', 'debt']，索引为['one', 'two', 'three', 'four','five', 'six']，并将结果保存为frame2\n",
    "#TODO\n",
    "columns = ['year', 'state', 'pop', 'debt']\n",
    "index = ['one', 'two', 'three', 'four', 'five', 'six']\n",
    "frame_check = pd.DataFrame(data, columns=columns, index=index)\n",
    "print(frame_check)"
   ]
  },
  {
   "cell_type": "code",
   "execution_count": 14,
   "id": "b3875452",
   "metadata": {},
   "outputs": [
    {
     "name": "stdout",
     "output_type": "stream",
     "text": [
      "       year   state  pop  debt\n",
      "one    2000    Ohio  1.5    10\n",
      "two    2001    Ohio  1.7    10\n",
      "three  2002    Ohio  3.6    10\n",
      "four   2001  Nevada  2.4    10\n",
      "five   2002  Nevada  2.9    10\n",
      "six    2003  Nevada  3.2    10\n"
     ]
    }
   ],
   "source": [
    "#列可以通过赋值的方式进行修改。例如，针对frame2，我们可以给那个空的\"debt\"列赋上一个标量值或一组值：\n",
    "#TODO\n",
    "frame_check['debt'] = 10\n",
    "print(frame_check)"
   ]
  },
  {
   "cell_type": "code",
   "execution_count": null,
   "id": "f3213a51",
   "metadata": {},
   "outputs": [
    {
     "name": "stdout",
     "output_type": "stream",
     "text": [
      "       year   state  pop  debt  from_ohio  isnor_check_ohio\n",
      "one    2000    Ohio  1.5    10       True              True\n",
      "two    2001    Ohio  1.7    10       True              True\n",
      "three  2002    Ohio  3.6    10       True              True\n",
      "four   2001  Nevada  2.4    10      False             False\n",
      "five   2002  Nevada  2.9    10      False             False\n",
      "six    2003  Nevada  3.2    10      False             False\n"
     ]
    }
   ],
   "source": [
    "#我们可以为一个不存在的列赋值来创建一个新的列，关键字del用于删除列。\n",
    "#作为del的例子，针对frame2，我们先添加一个新的布尔值的列，判断state是否为'Ohio'：\n",
    "#TODO\n",
    "frame_check['isnor_check_ohio'] = frame_check['state'] == 'Ohio'\n",
    "frame2 = frame_check\n",
    "print(frame_check)"
   ]
  },
  {
   "cell_type": "code",
   "execution_count": 20,
   "id": "5c080634",
   "metadata": {},
   "outputs": [
    {
     "name": "stdout",
     "output_type": "stream",
     "text": [
      "       year   state  pop  debt  isnor_check_ohio\n",
      "one    2000    Ohio  1.5    10              True\n",
      "two    2001    Ohio  1.7    10              True\n",
      "three  2002    Ohio  3.6    10              True\n",
      "four   2001  Nevada  2.4    10             False\n",
      "five   2002  Nevada  2.9    10             False\n",
      "six    2003  Nevada  3.2    10             False\n"
     ]
    }
   ],
   "source": [
    "#del关键字可以删除这个列，针对frame2，请用del删除列'eastern'\n",
    "#TODO\n",
    "# del frame_check['from_ohio']\n",
    "# print(frame_check)\n",
    "# del frame_check['eastern']\n",
    "print(frame_check)"
   ]
  },
  {
   "cell_type": "code",
   "execution_count": 22,
   "id": "6c75fef2",
   "metadata": {},
   "outputs": [
    {
     "data": {
      "text/html": [
       "<div>\n",
       "<style scoped>\n",
       "    .dataframe tbody tr th:only-of-type {\n",
       "        vertical-align: middle;\n",
       "    }\n",
       "\n",
       "    .dataframe tbody tr th {\n",
       "        vertical-align: top;\n",
       "    }\n",
       "\n",
       "    .dataframe thead th {\n",
       "        text-align: right;\n",
       "    }\n",
       "</style>\n",
       "<table border=\"1\" class=\"dataframe\">\n",
       "  <thead>\n",
       "    <tr style=\"text-align: right;\">\n",
       "      <th></th>\n",
       "      <th>Nevada</th>\n",
       "      <th>Ohio</th>\n",
       "    </tr>\n",
       "  </thead>\n",
       "  <tbody>\n",
       "    <tr>\n",
       "      <th>2001</th>\n",
       "      <td>2.4</td>\n",
       "      <td>1.7</td>\n",
       "    </tr>\n",
       "    <tr>\n",
       "      <th>2002</th>\n",
       "      <td>2.9</td>\n",
       "      <td>3.6</td>\n",
       "    </tr>\n",
       "    <tr>\n",
       "      <th>2000</th>\n",
       "      <td>NaN</td>\n",
       "      <td>1.5</td>\n",
       "    </tr>\n",
       "  </tbody>\n",
       "</table>\n",
       "</div>"
      ],
      "text/plain": [
       "      Nevada  Ohio\n",
       "2001     2.4   1.7\n",
       "2002     2.9   3.6\n",
       "2000     NaN   1.5"
      ]
     },
     "execution_count": 22,
     "metadata": {},
     "output_type": "execute_result"
    }
   ],
   "source": [
    "#另一种常见的数据形式是嵌套字典：\n",
    "pop = {'Nevada': {2001: 2.4, 2002: 2.9},'Ohio': {2000: 1.5, 2001: 1.7, 2002: 3.6}}\n",
    "#如果嵌套字典传给DataFrame，pandas就会被解释为：外层字典的键作为列，内层键则作为行索引：\n",
    "frame3 = pd.DataFrame(pop)\n",
    "frame3"
   ]
  },
  {
   "cell_type": "code",
   "execution_count": 23,
   "id": "cd2ee5df",
   "metadata": {},
   "outputs": [
    {
     "name": "stdout",
     "output_type": "stream",
     "text": [
      "        2001  2002  2000\n",
      "Nevada   2.4   2.9   NaN\n",
      "Ohio     1.7   3.6   1.5\n"
     ]
    }
   ],
   "source": [
    "#你也可以使用类似NumPy数组（Array.T）的方法，对frame3进行转置（交换行和列），\n",
    "#TODO\n",
    "frame3_try_transpose = frame3.T\n",
    "print(frame3_try_transpose)"
   ]
  },
  {
   "cell_type": "code",
   "execution_count": 24,
   "id": "7072aaa4",
   "metadata": {},
   "outputs": [
    {
     "data": {
      "text/plain": [
       "d    4.5\n",
       "b    7.2\n",
       "a   -5.3\n",
       "c    3.6\n",
       "dtype: float64"
      ]
     },
     "execution_count": 24,
     "metadata": {},
     "output_type": "execute_result"
    }
   ],
   "source": [
    "obj = pd.Series([4.5, 7.2, -5.3, 3.6], index=['d', 'b', 'a', 'c'])\n",
    "obj"
   ]
  },
  {
   "cell_type": "code",
   "execution_count": 26,
   "id": "81de2ac3",
   "metadata": {},
   "outputs": [
    {
     "name": "stdout",
     "output_type": "stream",
     "text": [
      "a   -5.3\n",
      "b    7.2\n",
      "c    3.6\n",
      "d    4.5\n",
      "dtype: float64\n"
     ]
    }
   ],
   "source": [
    "#使用reindex函数对obj重新索引使得索引顺序更换为'a','b','c','d'\n",
    "#TODO\n",
    "obj_try_reindex = obj.reindex(['a', 'b', 'c', 'd'])\n",
    "print(obj_try_reindex)"
   ]
  },
  {
   "cell_type": "code",
   "execution_count": 19,
   "id": "145727be-9864-4a94-9c79-0067ad34a3ac",
   "metadata": {},
   "outputs": [],
   "source": [
    "# frame"
   ]
  },
  {
   "cell_type": "code",
   "execution_count": 36,
   "id": "31ba103c",
   "metadata": {
    "scrolled": true
   },
   "outputs": [
    {
     "name": "stdout",
     "output_type": "stream",
     "text": [
      "        year  pop  debt  isnor_check_ohio\n",
      "state                                    \n",
      "Ohio    2000  1.5    10              True\n",
      "Ohio    2001  1.7    10              True\n",
      "Ohio    2002  3.6    10              True\n",
      "Nevada  2001  2.4    10             False\n",
      "Nevada  2002  2.9    10             False\n",
      "Nevada  2003  3.2    10             False\n",
      "        year  pop  debt  isnor_check_ohio\n",
      "state                                    \n",
      "Nevada  2001  2.4    10             False\n",
      "Nevada  2002  2.9    10             False\n",
      "Nevada  2003  3.2    10             False\n"
     ]
    }
   ],
   "source": [
    "#针对frame，使用drop函数删除行为'Colorado', 'Ohio'的行，将结果保存为frame4。\n",
    "#TODO\n",
    "frame_test = pd.DataFrame(frame_check, index=['one', 'two', 'three', 'four', 'five', 'six'])\n",
    "frame_test = frame_test.set_index('state')#.T\n",
    "frame4 = frame_test.drop(['Ohio'])\n",
    "print(frame_test)\n",
    "print(frame4)"
   ]
  },
  {
   "cell_type": "code",
   "execution_count": 41,
   "id": "cc1c45c8",
   "metadata": {},
   "outputs": [
    {
     "name": "stdout",
     "output_type": "stream",
     "text": [
      "       year   state  pop  debt  isnor_check_ohio\n",
      "one    2000    Ohio  1.5    10              True\n",
      "two    2001    Ohio  1.7    10              True\n",
      "three  2002    Ohio  3.6    10              True\n",
      "four   2001  Nevada  2.4    10             False\n",
      "five   2002  Nevada  2.9    10             False\n",
      "six    2003  Nevada  3.2    10             False\n",
      "                   one   two three    four    five     six\n",
      "year              2000  2001  2002    2001    2002    2003\n",
      "state             Ohio  Ohio  Ohio  Nevada  Nevada  Nevada\n",
      "pop                1.5   1.7   3.6     2.4     2.9     3.2\n",
      "debt                10    10    10      10      10      10\n",
      "isnor_check_ohio  True  True  True   False   False   False\n",
      "                   one three    four    five     six\n",
      "year              2000  2002    2001    2002    2003\n",
      "state             Ohio  Ohio  Nevada  Nevada  Nevada\n",
      "pop                1.5   3.6     2.4     2.9     3.2\n",
      "debt                10    10      10      10      10\n",
      "isnor_check_ohio  True  True   False   False   False\n"
     ]
    }
   ],
   "source": [
    "#针对frame4，通过设置参数axis=1删除列名为'two'的列。\n",
    "#TODO\n",
    "print(frame_check)\n",
    "frame_hang = frame_check.T\n",
    "print(frame_hang)\n",
    "frame_delete_lie = frame_hang.drop(['two'], axis=1)\n",
    "print(frame_delete_lie)"
   ]
  },
  {
   "cell_type": "code",
   "execution_count": 42,
   "id": "28d42085",
   "metadata": {},
   "outputs": [
    {
     "name": "stdout",
     "output_type": "stream",
     "text": [
      "b    1.0\n",
      "a    0.0\n",
      "d    3.0\n",
      "dtype: float64\n",
      "a    0.0\n",
      "b    1.0\n",
      "dtype: float64\n",
      "b    1.0\n",
      "c    2.0\n",
      "dtype: float64\n",
      "a    0.0\n",
      "b    5.0\n",
      "c    5.0\n",
      "d    3.0\n",
      "dtype: float64\n"
     ]
    }
   ],
   "source": [
    "#Series索引（obj[...]）的工作方式类似于NumPy数组的索引，只不过Series的索引值不只是整数。下面是几个例子：\n",
    "obj = pd.Series(np.arange(4.), index=['a', 'b', 'c', 'd'])\n",
    "#请选择obj中索引为 'b'、'a' 和 'd' 的元素\n",
    "#TODO\n",
    "selected_1 = obj[['b', 'a', 'd']]\n",
    "print(selected_1)\n",
    "#请选择obj中所有小于 2 的元素\n",
    "#TODO\n",
    "selected_2 = obj[obj < 2]\n",
    "print(selected_2)\n",
    "#请使用切片操作选择obj中从索引 'b' 到 'c' 的元素\n",
    "#TODO\n",
    "selected_3 = obj['b':'c']\n",
    "print(selected_3)\n",
    "#请使用切片操作将obj中从索引 'b' 到 'c' 的元素赋值为 5\n",
    "#TODO\n",
    "obj['b':'c'] = 5\n",
    "print(obj)"
   ]
  },
  {
   "cell_type": "code",
   "execution_count": 43,
   "id": "507a673f",
   "metadata": {},
   "outputs": [
    {
     "name": "stdout",
     "output_type": "stream",
     "text": [
      "    state  year  pop\n",
      "2    Ohio  2002  3.6\n",
      "3  Nevada  2001  2.4\n",
      "4  Nevada  2002  2.9\n",
      "5  Nevada  2003  3.2\n"
     ]
    }
   ],
   "source": [
    "#另一种用法是通过布尔条件（比如下面这个由标量比较运算得出的）进行索引：\n",
    "#针对frame，使用布尔条件筛选出 pop 列大于 2 的行\n",
    "#TODO\n",
    "frame_shaixuan1 = frame[frame['pop'] > 2]\n",
    "print(frame_shaixuan1)"
   ]
  },
  {
   "cell_type": "code",
   "execution_count": 44,
   "id": "aa5e62cf",
   "metadata": {},
   "outputs": [
    {
     "name": "stdout",
     "output_type": "stream",
     "text": [
      "state    Ohio\n",
      "year     2001\n",
      "Name: 1, dtype: object\n"
     ]
    }
   ],
   "source": [
    "#作为一个初步示例，让我们通过标签选择一行和多列：\n",
    "#针对frame，使用 loc 操作访问 frame 中第 2 行的 state 和 year 列\n",
    "#TODO\n",
    "frame_shaixuan2 = frame.loc[1, ['state', 'year']]\n",
    "print(frame_shaixuan2)"
   ]
  },
  {
   "cell_type": "code",
   "execution_count": 45,
   "id": "794d9332",
   "metadata": {},
   "outputs": [
    {
     "name": "stdout",
     "output_type": "stream",
     "text": [
      "a    5.2\n",
      "c    1.1\n",
      "d    NaN\n",
      "e    0.0\n",
      "f    NaN\n",
      "g    NaN\n",
      "dtype: float64\n"
     ]
    }
   ],
   "source": [
    "s1 = pd.Series([7.3, -2.5, 3.4, 1.5], index=['a', 'c', 'd', 'e'])\n",
    "s2 = pd.Series([-2.1, 3.6, -1.5, 4, 3.1],index=['a', 'c', 'e', 'f', 'g'])\n",
    "#将s1和s2通过\"+\"相加\n",
    "#TODO\n",
    "s_add = s1 + s2\n",
    "print(s_add)"
   ]
  },
  {
   "cell_type": "code",
   "execution_count": 46,
   "id": "60579144",
   "metadata": {},
   "outputs": [
    {
     "name": "stdout",
     "output_type": "stream",
     "text": [
      "a    5.2\n",
      "c    1.1\n",
      "d    3.4\n",
      "e    0.0\n",
      "f    4.0\n",
      "g    3.1\n",
      "dtype: float64\n"
     ]
    }
   ],
   "source": [
    "#使用s1的add函数执行加法，传入s2以及一个fill_value参数：\n",
    "#TODO\n",
    "s_change = s1.add(s2, fill_value=0)\n",
    "print(s_change)"
   ]
  },
  {
   "cell_type": "code",
   "execution_count": 47,
   "id": "931adadf",
   "metadata": {},
   "outputs": [
    {
     "name": "stdout",
     "output_type": "stream",
     "text": [
      "a    0.136986\n",
      "c   -0.400000\n",
      "d    0.294118\n",
      "e    0.666667\n",
      "dtype: float64\n",
      "a    0.136986\n",
      "c   -0.400000\n",
      "d    0.294118\n",
      "e    0.666667\n",
      "dtype: float64\n"
     ]
    }
   ],
   "source": [
    "#分别使用rdiv函数和\"/\"，将s1中的值取倒数。\n",
    "#TODO\n",
    "s1_change_rdiv = s1.rdiv(1)\n",
    "# 使用 \"/\" \n",
    "s1_change_div = 1 / s1\n",
    "# 输出结果\n",
    "print(s1_change_rdiv)\n",
    "print(s1_change_div)"
   ]
  },
  {
   "cell_type": "code",
   "execution_count": 48,
   "id": "18a9ed4f-1818-477e-8eb2-df3939eaca6a",
   "metadata": {},
   "outputs": [
    {
     "name": "stdout",
     "output_type": "stream",
     "text": [
      "      name  year  weight_kg  height_cm             breed  height_m\n",
      "0    Buddy  2015        7.5         60          Labrador      0.60\n",
      "1    Bella  2017        6.3         55            Beagle      0.55\n",
      "2      Max  2016        8.0         65           Bulldog      0.65\n",
      "3     Lucy  2018        5.4         50            Poodle      0.50\n",
      "4  Charlie  2015        9.2         70  Golden Retriever      0.70\n",
      "5    Daisy  2019        4.8         45         Dachshund      0.45\n",
      "6    Buddy  2015        7.5         60          Labrador      0.60\n",
      "7      Max  2016        8.0         65           Bulldog      0.65\n"
     ]
    }
   ],
   "source": [
    "dog_info = {\n",
    "    'name': ['Buddy', 'Bella', 'Max', 'Lucy', 'Charlie', 'Daisy', 'Buddy', 'Max'],\n",
    "    'year': [2015, 2017, 2016, 2018, 2015, 2019, 2015, 2016],  # 狗的出生年份\n",
    "    'weight_kg': [7.5, 6.3, 8.0, 5.4, 9.2, 4.8, 7.5, 8.0],  # 狗的体重（单位：千克）\n",
    "    'height_cm': [60, 55, 65, 50, 70, 45, 60, 65],  # 狗的身高（单位：厘米）\n",
    "    'breed': ['Labrador', 'Beagle', 'Bulldog', 'Poodle', 'Golden Retriever', 'Dachshund', 'Labrador', 'Bulldog']  # 狗的品种\n",
    "}\n",
    "dogs = pd.DataFrame(dog_info)\n",
    "# 将狗的身高从厘米转换为米，并添加为新列height_m\n",
    "#TODO\n",
    "dogs['height_m'] = dogs['height_cm'] / 100\n",
    "print(dogs)"
   ]
  },
  {
   "cell_type": "code",
   "execution_count": 49,
   "id": "7f91ebb3-0185-4d24-b2ed-8343ccdfb39f",
   "metadata": {},
   "outputs": [
    {
     "name": "stdout",
     "output_type": "stream",
     "text": [
      "      name  year  weight_kg  height_cm             breed  height_m\n",
      "0    Buddy  2015        7.5         60          Labrador      0.60\n",
      "1    Bella  2017        6.3         55            Beagle      0.55\n",
      "2      Max  2016        8.0         65           Bulldog      0.65\n",
      "3     Lucy  2018        5.4         50            Poodle      0.50\n",
      "4  Charlie  2015        9.2         70  Golden Retriever      0.70\n",
      "5    Daisy  2019        4.8         45         Dachshund      0.45\n"
     ]
    }
   ],
   "source": [
    "#针对dogs，使用drop_duplicates和其中的subset参数删除 name 和 breed 列相同重复的行，这里属性值name和breed的取值可能有多种组合\n",
    "#TODO\n",
    "dogs_delete = dogs.drop_duplicates(subset=['name', 'breed'])\n",
    "\n",
    "print(dogs_delete)"
   ]
  },
  {
   "cell_type": "markdown",
   "id": "63d9214e",
   "metadata": {},
   "source": [
    "# Dataframe与Series的运算"
   ]
  },
  {
   "cell_type": "code",
   "execution_count": 30,
   "id": "a9f13a08",
   "metadata": {},
   "outputs": [
    {
     "name": "stdout",
     "output_type": "stream",
     "text": [
      "[[ 0.  1.  2.  3.]\n",
      " [ 4.  5.  6.  7.]\n",
      " [ 8.  9. 10. 11.]]\n",
      "[0. 1. 2. 3.]\n",
      "[[0. 0. 0. 0.]\n",
      " [4. 4. 4. 4.]\n",
      " [8. 8. 8. 8.]]\n"
     ]
    }
   ],
   "source": [
    "#跟不同维度的NumPy数组一样，DataFrame和Series之间算术运算也是有明确规定的。先来看一个具有启发性的例子，计算一个二维数组与其某行之间的差：\n",
    "arr = np.arange(12.).reshape((3, 4))\n",
    "print(arr)\n",
    "print(arr[0])\n",
    "print(arr - arr[0])"
   ]
  },
  {
   "cell_type": "code",
   "execution_count": 50,
   "id": "617e911a",
   "metadata": {},
   "outputs": [
    {
     "name": "stdout",
     "output_type": "stream",
     "text": [
      "b    0.0\n",
      "d    1.0\n",
      "e    2.0\n",
      "Name: Utah, dtype: float64\n",
      "          b    d    e\n",
      "Utah    0.0  0.0  0.0\n",
      "Ohio    3.0  3.0  3.0\n",
      "Texas   6.0  6.0  6.0\n",
      "Oregon  9.0  9.0  9.0\n"
     ]
    }
   ],
   "source": [
    "#当我们从arr减去arr[0]，每一行都会执行这个操作。这就叫做广播（broadcasting），DataFrame和Series之间的运算差不多也是如此：\n",
    "frame = pd.DataFrame(np.arange(12.).reshape((4, 3)),columns=list('bde'),index=['Utah', 'Ohio', 'Texas', 'Oregon'])\n",
    "#使用iloc[]获取frame的第0行\n",
    "#TODO\n",
    "first_row = frame.iloc[0]\n",
    "print(first_row)\n",
    "#对 frame 中的每一行减去 series\n",
    "#TODO\n",
    "frame_sub = frame - first_row\n",
    "print(frame_sub)"
   ]
  },
  {
   "cell_type": "code",
   "execution_count": 51,
   "id": "f4fdb7e8-89d1-426d-8c5f-36a560f6c4ec",
   "metadata": {},
   "outputs": [
    {
     "name": "stdout",
     "output_type": "stream",
     "text": [
      "breed\n",
      "Labrador            0.250\n",
      "Bulldog             0.250\n",
      "Beagle              0.125\n",
      "Poodle              0.125\n",
      "Golden Retriever    0.125\n",
      "Dachshund           0.125\n",
      "Name: proportion, dtype: float64\n"
     ]
    }
   ],
   "source": [
    "#针对dogs，统计每个breed类别的数量\n",
    "#设置参数normalize=True将计数转化为占整体的比例\n",
    "#TODO\n",
    "breed_counts = dogs['breed'].value_counts(normalize=True)\n",
    "print(breed_counts)"
   ]
  },
  {
   "cell_type": "markdown",
   "id": "fb54534a",
   "metadata": {},
   "source": [
    "# 数据的聚合与分组计算"
   ]
  },
  {
   "cell_type": "code",
   "execution_count": 52,
   "id": "4201a0d7",
   "metadata": {},
   "outputs": [
    {
     "name": "stdout",
     "output_type": "stream",
     "text": [
      "key1\n",
      "a   -0.042201\n",
      "b    1.488068\n",
      "Name: data1, dtype: float64\n"
     ]
    }
   ],
   "source": [
    "df = pd.DataFrame({'key1' : ['a', 'a', 'b', 'b', 'a'],'key2' : ['one', 'two', 'one', 'two', 'one'],'data1' : np.random.randn(5),'data2' : np.random.randn(5)})\n",
    "#通过 groupby() 对 data1 按照 key1 分组,并计算data1的均值。\n",
    "#TODO\n",
    "key1_grouped = df.groupby('key1')['data1'].mean()\n",
    "print(key1_grouped)"
   ]
  },
  {
   "cell_type": "code",
   "execution_count": 56,
   "id": "d6b6999b-228a-4274-85cc-0fb5ec0d3a4e",
   "metadata": {
    "scrolled": true
   },
   "outputs": [
    {
     "name": "stdout",
     "output_type": "stream",
     "text": [
      "key1\n",
      "a   -0.042201\n",
      "b    1.488068\n",
      "Name: data1, dtype: float64\n"
     ]
    }
   ],
   "source": [
    "#针对df，请使用 mean() 函数计算按 key1 分组后的 每个key1值的均值\n",
    "#TODO\n",
    "key1_grouped_mean = df.groupby('key1')['data1'].mean()\n",
    "print(key1_grouped_mean)"
   ]
  },
  {
   "cell_type": "code",
   "execution_count": 57,
   "id": "c18fd9f6",
   "metadata": {
    "scrolled": true
   },
   "outputs": [
    {
     "data": {
      "text/plain": [
       "key1  key2\n",
       "a     one     2\n",
       "      two     1\n",
       "b     one     1\n",
       "      two     1\n",
       "dtype: int64"
      ]
     },
     "execution_count": 57,
     "metadata": {},
     "output_type": "execute_result"
    }
   ],
   "source": [
    "df.groupby(['key1', 'key2']).size()"
   ]
  },
  {
   "cell_type": "code",
   "execution_count": 58,
   "id": "afa6e391-e17e-4e98-a6a1-297aa33ba627",
   "metadata": {},
   "outputs": [
    {
     "name": "stdout",
     "output_type": "stream",
     "text": [
      "         data1\n",
      "key1          \n",
      "a    -0.042201\n",
      "b     1.488068\n"
     ]
    }
   ],
   "source": [
    "#你也可以通过透视表来实现和聚合操作相同的功能。默认是mean\n",
    "#针对df，请使用 DataFrame.pivot_table() 函数创建透视表，并指定 索引 为 key1，值 为 data1\n",
    "#TODO\n",
    "pivot_table_result = df.pivot_table(values='data1', index='key1')\n",
    "print(pivot_table_result)"
   ]
  },
  {
   "cell_type": "code",
   "execution_count": 59,
   "id": "7ae2cdd7-f481-4fe7-9da2-08ebd890d456",
   "metadata": {},
   "outputs": [
    {
     "name": "stdout",
     "output_type": "stream",
     "text": [
      "          mean              median          \n",
      "key2       one       two       one       two\n",
      "key1                                        \n",
      "a     0.356672 -0.839947  0.356672 -0.839947\n",
      "b     0.279077  2.697058  0.279077  2.697058\n"
     ]
    }
   ],
   "source": [
    "#针对df，请使用 DataFrame.pivot_table() 函数创建透视表，并指定索引为 key1，列为 key2，值为 data1，并使用 aggfunc参数 计算 data1 的均值和中位数\n",
    "#TODO\n",
    "pivot_table_result1 = df.pivot_table(values='data1', index='key1', columns='key2', aggfunc=['mean', 'median'])\n",
    "print(pivot_table_result1)"
   ]
  },
  {
   "cell_type": "code",
   "execution_count": 60,
   "id": "5a369e2f-7e23-49d1-a085-a3bb31b5081e",
   "metadata": {
    "scrolled": true
   },
   "outputs": [
    {
     "name": "stdout",
     "output_type": "stream",
     "text": [
      "key2       one       two\n",
      "key1                    \n",
      "a     0.356672 -0.839947\n",
      "b     0.279077  2.697058\n"
     ]
    }
   ],
   "source": [
    "#针对df, 请使用 DataFrame.pivot_table() 函数创建透视表，并指定索引为 key1，列为 key2，值为 data1\n",
    "#TODO\n",
    "pivot_table_result3 = df.pivot_table(values='data1', index='key1', columns='key2')\n",
    "print(pivot_table_result3)"
   ]
  },
  {
   "cell_type": "markdown",
   "id": "265a1c34",
   "metadata": {},
   "source": [
    "# 多层索引"
   ]
  },
  {
   "cell_type": "code",
   "execution_count": 63,
   "id": "6ba8a17e",
   "metadata": {},
   "outputs": [
    {
     "data": {
      "text/html": [
       "<div>\n",
       "<style scoped>\n",
       "    .dataframe tbody tr th:only-of-type {\n",
       "        vertical-align: middle;\n",
       "    }\n",
       "\n",
       "    .dataframe tbody tr th {\n",
       "        vertical-align: top;\n",
       "    }\n",
       "\n",
       "    .dataframe thead th {\n",
       "        text-align: right;\n",
       "    }\n",
       "</style>\n",
       "<table border=\"1\" class=\"dataframe\">\n",
       "  <thead>\n",
       "    <tr style=\"text-align: right;\">\n",
       "      <th></th>\n",
       "      <th>key1</th>\n",
       "      <th>key2</th>\n",
       "      <th>data1</th>\n",
       "      <th>data2</th>\n",
       "    </tr>\n",
       "  </thead>\n",
       "  <tbody>\n",
       "    <tr>\n",
       "      <th>0</th>\n",
       "      <td>a</td>\n",
       "      <td>one</td>\n",
       "      <td>1.592094</td>\n",
       "      <td>-0.456736</td>\n",
       "    </tr>\n",
       "    <tr>\n",
       "      <th>1</th>\n",
       "      <td>a</td>\n",
       "      <td>two</td>\n",
       "      <td>-0.839947</td>\n",
       "      <td>1.258278</td>\n",
       "    </tr>\n",
       "    <tr>\n",
       "      <th>2</th>\n",
       "      <td>b</td>\n",
       "      <td>one</td>\n",
       "      <td>0.279077</td>\n",
       "      <td>0.888259</td>\n",
       "    </tr>\n",
       "    <tr>\n",
       "      <th>3</th>\n",
       "      <td>b</td>\n",
       "      <td>two</td>\n",
       "      <td>2.697058</td>\n",
       "      <td>1.083462</td>\n",
       "    </tr>\n",
       "    <tr>\n",
       "      <th>4</th>\n",
       "      <td>a</td>\n",
       "      <td>one</td>\n",
       "      <td>-0.878750</td>\n",
       "      <td>0.513740</td>\n",
       "    </tr>\n",
       "  </tbody>\n",
       "</table>\n",
       "</div>"
      ],
      "text/plain": [
       "  key1 key2     data1     data2\n",
       "0    a  one  1.592094 -0.456736\n",
       "1    a  two -0.839947  1.258278\n",
       "2    b  one  0.279077  0.888259\n",
       "3    b  two  2.697058  1.083462\n",
       "4    a  one -0.878750  0.513740"
      ]
     },
     "execution_count": 63,
     "metadata": {},
     "output_type": "execute_result"
    }
   ],
   "source": [
    "df"
   ]
  },
  {
   "cell_type": "code",
   "execution_count": 64,
   "id": "930d409e-45ca-463a-8b8d-a8b5552b4597",
   "metadata": {},
   "outputs": [
    {
     "name": "stdout",
     "output_type": "stream",
     "text": [
      "     key2     data1     data2\n",
      "key1                         \n",
      "a     one  1.592094 -0.456736\n",
      "a     two -0.839947  1.258278\n",
      "b     one  0.279077  0.888259\n",
      "b     two  2.697058  1.083462\n",
      "a     one -0.878750  0.513740\n"
     ]
    }
   ],
   "source": [
    "#针对df，使用set_index函数将key1列设置为索引,并将结果保存为df2\n",
    "#TODO\n",
    "df2 = df.set_index('key1')\n",
    "print(df2)"
   ]
  },
  {
   "cell_type": "code",
   "execution_count": 65,
   "id": "75a6ae53",
   "metadata": {},
   "outputs": [
    {
     "name": "stdout",
     "output_type": "stream",
     "text": [
      "              data1     data2\n",
      "key1 key2                    \n",
      "a    one   1.592094 -0.456736\n",
      "     two  -0.839947  1.258278\n",
      "b    one   0.279077  0.888259\n",
      "     two   2.697058  1.083462\n",
      "a    one  -0.878750  0.513740\n"
     ]
    }
   ],
   "source": [
    "#针对df，使用set_index函数将key1、key2列设置为多层索引，并将结果保存为df2\n",
    "#TODO\n",
    "df2 = df.set_index(['key1', 'key2'])\n",
    "print(df2)"
   ]
  },
  {
   "cell_type": "code",
   "execution_count": 66,
   "id": "9f724795-b0e9-449e-b010-22173057148e",
   "metadata": {
    "scrolled": true
   },
   "outputs": [
    {
     "name": "stdout",
     "output_type": "stream",
     "text": [
      "              data1     data2\n",
      "key1 key2                    \n",
      "a    one   1.592094 -0.456736\n",
      "     one  -0.878750  0.513740\n"
     ]
    },
    {
     "name": "stderr",
     "output_type": "stream",
     "text": [
      "C:\\Users\\25843\\AppData\\Local\\Temp\\ipykernel_16528\\2793627530.py:3: PerformanceWarning: indexing past lexsort depth may impact performance.\n",
      "  result_suoyin = df2.loc[('a', 'one')]\n"
     ]
    }
   ],
   "source": [
    "#针对df2，使用loc函数访问由多层索引key1、key2确定的行,请输出key1='a',key2='one'的结果：\n",
    "#TODO\n",
    "result_suoyin = df2.loc[('a', 'one')]\n",
    "print(result_suoyin)"
   ]
  },
  {
   "cell_type": "code",
   "execution_count": null,
   "id": "4e5c88b0-1ffa-423b-80f1-3d1b27c453b3",
   "metadata": {},
   "outputs": [
    {
     "name": "stdout",
     "output_type": "stream",
     "text": [
      "              data1     data2\n",
      "key1 key2                    \n",
      "a    one   1.592094 -0.456736\n",
      "     one  -0.878750  0.513740\n",
      "     two  -0.839947  1.258278\n",
      "b    one   0.279077  0.888259\n",
      "     two   2.697058  1.083462\n"
     ]
    }
   ],
   "source": [
    "#请使用sort_index对 df2 按索引进行排序\n",
    "#TODO\n",
    "df2_sorted_paixu = df2.sort_index()\n",
    "print(df2_sorted_paixu)"
   ]
  },
  {
   "cell_type": "code",
   "execution_count": 73,
   "id": "0a1c6983-4032-46e0-9f82-ac309d518cfc",
   "metadata": {
    "scrolled": true
   },
   "outputs": [
    {
     "name": "stdout",
     "output_type": "stream",
     "text": [
      "              data1     data2\n",
      "key1 key2                    \n",
      "a    one   1.592094 -0.456736\n",
      "     one  -0.878750  0.513740\n",
      "     two  -0.839947  1.258278\n"
     ]
    }
   ],
   "source": [
    "#使用.loc和.iloc进行切片和子集化\n",
    "#使用loc[] 索引器中“切片”操作从具有多重索引的 df2 中获取所有 key1 为 'a' 的行，包括 'a' 这一行及其之前的所有行。\n",
    "#TODO\n",
    "result_loc = df2_sorted_paixu.loc[:'a']\n",
    "print(result_loc)"
   ]
  },
  {
   "cell_type": "code",
   "execution_count": 74,
   "id": "30bdcba2-936b-4a35-89fe-3b9a39669199",
   "metadata": {},
   "outputs": [
    {
     "name": "stdout",
     "output_type": "stream",
     "text": [
      "              data2\n",
      "key1 key2          \n",
      "a    two   1.258278\n",
      "b    one   0.888259\n",
      "     two   1.083462\n"
     ]
    }
   ],
   "source": [
    "#除此之外，你也可以使用iloc进行切片，iloc只有两个参数分别代表行和列的切片。请注意iloc的切片是不包括尾元素的。\n",
    "#针对df2，使用 iloc[] 从 DataFrame 中选择第 2 到第 4 行（索引 2, 3, 4）和第 1 到第 3 列（索引 1, 2, 3）的数据\n",
    "#TODO\n",
    "result_iloc = df2_sorted_paixu.iloc[2:5, 1:4]\n",
    "print(result_iloc)"
   ]
  },
  {
   "cell_type": "code",
   "execution_count": 75,
   "id": "b5075b86-6bd9-43d6-a025-a4f937200be3",
   "metadata": {},
   "outputs": [
    {
     "name": "stdout",
     "output_type": "stream",
     "text": [
      "key2       one       two\n",
      "key1                    \n",
      "a     0.356672 -0.839947\n",
      "b     0.279077  2.697058\n",
      "key2\n",
      "one    0.356672\n",
      "two   -0.839947\n",
      "Name: a, dtype: float64\n",
      "key2       one       two\n",
      "key1                    \n",
      "b     0.279077  2.697058\n"
     ]
    }
   ],
   "source": [
    "#针对df2，pilot_table其实只是带有排序索引的dataframe因此你可以同样在pilot_table上达成这一操作：\n",
    "#TODO\n",
    "pivot_table_result = df2.pivot_table(values='data1', index='key1', columns='key2')\n",
    "print(pivot_table_result)\n",
    "result_loc = pivot_table_result.loc['a']\n",
    "print(result_loc)\n",
    "result_iloc = pivot_table_result.iloc[1:3, 0:2]\n",
    "print(result_iloc)"
   ]
  },
  {
   "cell_type": "markdown",
   "id": "dfdddf88",
   "metadata": {},
   "source": [
    "# 两个dataframe合并"
   ]
  },
  {
   "cell_type": "code",
   "execution_count": 76,
   "id": "194d99d6",
   "metadata": {},
   "outputs": [
    {
     "name": "stdout",
     "output_type": "stream",
     "text": [
      "  key  data1  data2\n",
      "0   b      0      1\n",
      "1   b      1      1\n",
      "2   b      6      1\n",
      "3   a      2      0\n",
      "4   a      4      0\n",
      "5   a      5      0\n"
     ]
    }
   ],
   "source": [
    "#数据库风格的DataFrame合并\n",
    "#数据集的合并（merge）或连接（join）运算是通过一个或多个键将行连接起来的。这些运算是关系型数据库（基于SQL）的核心。\n",
    "#pandas的merge函数是对数据应用这些算法的主要切入点。\n",
    "df1 = pd.DataFrame({'key': ['b', 'b', 'a', 'c', 'a', 'a', 'b'],'data1': range(7)})\n",
    "df2 = pd.DataFrame({'key': ['a', 'b', 'd'],'data2': range(3)})\n",
    "\n",
    "#请使用merge操作合并df1和df2，你可以通过on参数指定合并所用的键\n",
    "#TODO\n",
    "df_add = pd.merge(df1, df2, on='key')\n",
    "print(df_add)"
   ]
  },
  {
   "cell_type": "code",
   "execution_count": 77,
   "id": "264c2074",
   "metadata": {},
   "outputs": [
    {
     "name": "stdout",
     "output_type": "stream",
     "text": [
      "  lkey  data1 rkey  data2\n",
      "0    b      0    b      1\n",
      "1    b      1    b      1\n",
      "2    b      6    b      1\n",
      "3    a      2    a      0\n",
      "4    a      4    a      0\n",
      "5    a      5    a      0\n"
     ]
    }
   ],
   "source": [
    "#两个列列名不同，可以人为指定合并使用的左键和右键\n",
    "df3 = pd.DataFrame({'lkey': ['b', 'b', 'a', 'c', 'a', 'a', 'b'],'data1': range(7)})\n",
    "df4 = pd.DataFrame({'rkey': ['a', 'b', 'd'],'data2': range(3)})\n",
    "#请使用 left_on='lkey' 和 right_on='rkey' 参数尝试合并 df3 和 df4\n",
    "#TODO\n",
    "df_add_34 = pd.merge(df3, df4, left_on='lkey', right_on='rkey')\n",
    "print(df_add_34)"
   ]
  },
  {
   "cell_type": "markdown",
   "id": "d477892a-854f-49c9-b61a-e08648d4f826",
   "metadata": {},
   "source": [
    "# pandas可视化"
   ]
  },
  {
   "cell_type": "code",
   "execution_count": 78,
   "id": "f814a97a-874f-4d2a-b2a4-8240d17debbe",
   "metadata": {},
   "outputs": [],
   "source": [
    "import matplotlib.pyplot as plt"
   ]
  },
  {
   "cell_type": "code",
   "execution_count": 83,
   "id": "c8d6eff0-5759-4ea0-a95f-5f90d9a53c76",
   "metadata": {},
   "outputs": [
    {
     "name": "stdout",
     "output_type": "stream",
     "text": [
      "breed\n",
      "Beagle              6.533333\n",
      "Boxer               6.550000\n",
      "Bulldog             8.500000\n",
      "Cocker Spaniel      8.250000\n",
      "Dachshund           6.466667\n",
      "Golden Retriever    7.833333\n",
      "Labrador            7.766667\n",
      "Poodle              5.933333\n",
      "Rottweiler          5.800000\n",
      "Shih Tzu            6.400000\n",
      "Name: weight_kg, dtype: float64\n"
     ]
    },
    {
     "data": {
      "image/png": "[encoded data removed]",
      "text/plain": [
       "<Figure size 1000x600 with 1 Axes>"
      ]
     },
     "metadata": {},
     "output_type": "display_data"
    }
   ],
   "source": [
    "dog_info = {\n",
    "    'name': ['Buddy', 'Bella', 'Max', 'Lucy', 'Charlie', 'Daisy', 'Rocky', 'Milo', 'Sadie', 'Oscar',\n",
    "             'Cooper', 'Maggie', 'Toby', 'Luna', 'Jack', 'Zoe', 'Duke', 'Lily', 'Buster', 'Rex',\n",
    "             'Ruby', 'Sam', 'Dolly', 'Jake', 'Chloe', 'Maximus'],\n",
    "    'year': [2015, 2017, 2016, 2018, 2015, 2019, 2016, 2018, 2017, 2020,\n",
    "             2014, 2016, 2017, 2018, 2015, 2019, 2020, 2021, 2016, 2017,\n",
    "             2015, 2016, 2018, 2019, 2020, 2021],\n",
    "    'weight_kg': [7.5, 6.3, 8.0, 5.4, 9.2, 4.8, 7.8, 6.5, 6.2, 5.5, \n",
    "                  8.5, 6.7, 9.0, 5.2, 7.0, 5.3, 10.0, 5.8, 6.1, 8.2, \n",
    "                  7.3, 6.6, 5.4, 9.1, 7.2, 6.4],\n",
    "    'height_cm': [60, 55, 65, 50, 70, 45, 58, 54, 52, 63, \n",
    "                  68, 56, 72, 48, 62, 47, 75, 58, 53, 69,\n",
    "                  64, 59, 54, 76, 61, 57],\n",
    "    'breed': ['Labrador', 'Beagle', 'Bulldog', 'Poodle', 'Golden Retriever', 'Dachshund', 'Boxer', 'Cocker Spaniel', 'Shih Tzu', 'Rottweiler',\n",
    "              'Labrador', 'Beagle', 'Bulldog', 'Golden Retriever', 'Poodle', 'Boxer', 'Cocker Spaniel', 'Shih Tzu', 'Rottweiler', 'Dachshund',\n",
    "              'Labrador', 'Beagle', 'Poodle', 'Golden Retriever', 'Shih Tzu', 'Dachshund'],\n",
    "    'sex': ['M', 'F', 'M', 'F', 'M', 'F', 'M', 'M', 'F', 'M', \n",
    "            'M', 'F', 'M', 'F', 'M', 'F', 'M', 'F', 'M', 'M',\n",
    "            'F', 'M', 'M', 'F', 'M', 'F']\n",
    "}\n",
    "# 创建 DataFrame\n",
    "dog_pack = pd.DataFrame(dog_info)\n",
    "\n",
    "# 使用 pandas 和 matplotlib 来绘制两个性别直方图，展示 dog_pack 数据集中不同性别狗的身高分布，并计算每个品种的平均体重\n",
    "#TODO\n",
    "plt.figure(figsize=(10, 6))\n",
    "# 男性狗\n",
    "dog_pack[dog_pack['sex'] == 'M']['height_cm'].plot(kind='hist', alpha=0.5, bins=5, label='Male', color='blue')\n",
    "# 女性狗\n",
    "dog_pack[dog_pack['sex'] == 'F']['height_cm'].plot(kind='hist', alpha=0.5, bins=5, label='Female', color='green')\n",
    "plt.title('Height Distribution by Sex')\n",
    "plt.xlabel('Height (cm)')\n",
    "plt.ylabel('Frequency')\n",
    "plt.legend()\n",
    "# plt.show()\n",
    "average_weight = dog_pack.groupby('breed')['weight_kg'].mean()\n",
    "print(average_weight)"
   ]
  },
  {
   "cell_type": "code",
   "execution_count": 86,
   "id": "c0d98976-6934-447e-9a8d-17f6234648fa",
   "metadata": {},
   "outputs": [
    {
     "data": {
      "image/png": "[encoded data removed]",
      "text/plain": [
       "<Figure size 1200x600 with 1 Axes>"
      ]
     },
     "metadata": {},
     "output_type": "display_data"
    }
   ],
   "source": [
    "#绘制条形图，绘制不同狗breed下的平均体重条形图\n",
    "#TODO\n",
    "average_weight_by_breed = dog_pack.groupby('breed')['weight_kg'].mean()\n",
    "plt.figure(figsize=(12, 6))\n",
    "average_weight_by_breed.plot(kind='bar', color='pink', edgecolor='orange')\n",
    "plt.title('Average Weight by Dog Breed')\n",
    "plt.xlabel('Dog Breed')\n",
    "plt.ylabel('Average Weight (kg)')\n",
    "plt.xticks(rotation=45, ha='right')\n",
    "plt.tight_layout() "
   ]
  },
  {
   "cell_type": "code",
   "execution_count": 87,
   "id": "11d09270-e689-487d-bb2e-568680cd185a",
   "metadata": {},
   "outputs": [
    {
     "data": {
      "image/png": "[encoded data removed]",
      "text/plain": [
       "<Figure size 1000x600 with 1 Axes>"
      ]
     },
     "metadata": {},
     "output_type": "display_data"
    }
   ],
   "source": [
    "data = {\n",
    "    'date': pd.date_range(start='2023-01-01', periods=10, freq='D'),  # 生成连续日期数据\n",
    "    'weight_kg': [72.5, 73.0, 72.7, 73.5, 74.0, 74.3, 74.1, 73.8, 73.6, 73.4]  # 模拟体重数据\n",
    "}\n",
    "\n",
    "\n",
    "sully = pd.DataFrame(data)\n",
    "\n",
    "#绘制折线图，随着日期的变化，体重的变化\n",
    "#TODO\n",
    "plt.figure(figsize=(10, 6))\n",
    "plt.plot(sully['date'], sully['weight_kg'], marker='o', linestyle='-', color='b')\n",
    "plt.title('Weight Change Over Time')\n",
    "plt.xlabel('Date')\n",
    "plt.ylabel('Weight (kg)')\n",
    "plt.xticks(rotation=45)\n",
    "plt.tight_layout()  \n",
    "# plt.show()"
   ]
  },
  {
   "cell_type": "code",
   "execution_count": 88,
   "id": "c41f8309-d117-49bf-aceb-2e33b82ba333",
   "metadata": {},
   "outputs": [
    {
     "data": {
      "image/png": "[encoded data removed]",
      "text/plain": [
       "<Figure size 1000x600 with 1 Axes>"
      ]
     },
     "metadata": {},
     "output_type": "display_data"
    }
   ],
   "source": [
    "#绘制散点图。针对dog_pack，绘制身高-体重散点图\n",
    "#TODO\n",
    "plt.figure(figsize=(10, 6))\n",
    "plt.scatter(dog_pack['height_cm'], dog_pack['weight_kg'], color='blue', alpha=0.6)\n",
    "plt.title('Height vs Weight of Dogs')\n",
    "plt.xlabel('Height (cm)')\n",
    "plt.ylabel('Weight (kg)')\n",
    "plt.tight_layout()  \n",
    "# plt.show()"
   ]
  },
  {
   "cell_type": "markdown",
   "id": "d6111fb4-7d17-45a5-8343-9af82222c39f",
   "metadata": {},
   "source": [
    "# 缺失值处理"
   ]
  },
  {
   "cell_type": "code",
   "execution_count": 89,
   "id": "f218360e",
   "metadata": {},
   "outputs": [
    {
     "name": "stdout",
     "output_type": "stream",
     "text": [
      "原始数据：\n",
      "      name    year  weight_kg  height_cm             breed sex\n",
      "0    Buddy  2015.0        7.5       60.0          Labrador   M\n",
      "1    Bella  2017.0        6.3       55.0            Beagle   F\n",
      "2      Max  2016.0        8.0        NaN           Bulldog   M\n",
      "3     Lucy     NaN        5.4       50.0            Poodle   F\n",
      "4      NaN  2019.0        NaN       70.0  Golden Retriever   M\n",
      "5  Charlie  2015.0        9.2       60.0         Dachshund   F\n",
      "6    Daisy  2018.0        4.8       45.0               NaN   F\n"
     ]
    }
   ],
   "source": [
    "data = {\n",
    "    'name': ['Buddy', 'Bella', 'Max', 'Lucy', np.nan, 'Charlie', 'Daisy'],\n",
    "    'year': [2015, 2017, 2016, np.nan, 2019, 2015, 2018],\n",
    "    'weight_kg': [7.5, 6.3, 8.0, 5.4, np.nan, 9.2, 4.8],\n",
    "    'height_cm': [60, 55, np.nan, 50, 70, 60, 45],\n",
    "    'breed': ['Labrador', 'Beagle', 'Bulldog', 'Poodle', 'Golden Retriever', 'Dachshund', np.nan],\n",
    "    'sex': ['M', 'F', 'M', 'F', 'M', 'F', 'F']\n",
    "}\n",
    "\n",
    "dog_pack = pd.DataFrame(data)\n",
    "\n",
    "# 查看原始数据，确认包含缺失值\n",
    "print(\"原始数据：\")\n",
    "print(dog_pack)"
   ]
  },
  {
   "cell_type": "code",
   "execution_count": 90,
   "id": "0b3230be-38ec-41c8-b9bc-4d2e5cdedf2a",
   "metadata": {},
   "outputs": [
    {
     "name": "stdout",
     "output_type": "stream",
     "text": [
      "name          True\n",
      "year          True\n",
      "weight_kg     True\n",
      "height_cm     True\n",
      "breed         True\n",
      "sex          False\n",
      "dtype: bool\n",
      "name         1\n",
      "year         1\n",
      "weight_kg    1\n",
      "height_cm    1\n",
      "breed        1\n",
      "sex          0\n",
      "dtype: int64\n"
     ]
    }
   ],
   "source": [
    "#使用dataframe.isna().any()函数判断dataframe中是否有缺失值,dataframe.isna().sum()检测每列的缺失值的数量\n",
    "#TODO\n",
    "has_missing_values = dog_pack.isna().any()  \n",
    "missing_values_count = dog_pack.isna().sum()  \n",
    "print(has_missing_values)\n",
    "print(missing_values_count)"
   ]
  },
  {
   "cell_type": "code",
   "execution_count": 91,
   "id": "7d31fdf2-f8cf-471b-829b-2583315408d6",
   "metadata": {},
   "outputs": [
    {
     "name": "stdout",
     "output_type": "stream",
     "text": [
      "      name    year  weight_kg  height_cm      breed sex\n",
      "0    Buddy  2015.0        7.5       60.0   Labrador   M\n",
      "1    Bella  2017.0        6.3       55.0     Beagle   F\n",
      "5  Charlie  2015.0        9.2       60.0  Dachshund   F\n"
     ]
    }
   ],
   "source": [
    "#dataframe.dropna()可以删除有缺失值的行\n",
    "#TODO\n",
    "cleaned_dog_pack_hang = dog_pack.dropna()\n",
    "\n",
    "print(cleaned_dog_pack_hang)"
   ]
  },
  {
   "cell_type": "code",
   "execution_count": 92,
   "id": "6057d347-ab8f-44b7-852e-c43699e36722",
   "metadata": {},
   "outputs": [
    {
     "name": "stdout",
     "output_type": "stream",
     "text": [
      "      name    year  weight_kg  height_cm             breed sex\n",
      "0    Buddy  2015.0        7.5       60.0          Labrador   M\n",
      "1    Bella  2017.0        6.3       55.0            Beagle   F\n",
      "2      Max  2016.0        8.0        0.0           Bulldog   M\n",
      "3     Lucy     0.0        5.4       50.0            Poodle   F\n",
      "4        0  2019.0        0.0       70.0  Golden Retriever   M\n",
      "5  Charlie  2015.0        9.2       60.0         Dachshund   F\n",
      "6    Daisy  2018.0        4.8       45.0                 0   F\n"
     ]
    }
   ],
   "source": [
    "#dataframe.fillna(0)将所有有缺失值的行填充为0\n",
    "#TODO\n",
    "filled_dog_pack_hang = dog_pack.fillna(0)\n",
    "\n",
    "print(filled_dog_pack_hang)"
   ]
  },
  {
   "cell_type": "code",
   "execution_count": 94,
   "id": "7a938429-837a-40ef-af32-ca2d1b41c85a",
   "metadata": {},
   "outputs": [
    {
     "name": "stdout",
     "output_type": "stream",
     "text": [
      "      name         year  weight_kg  height_cm             breed sex\n",
      "0    Buddy  2015.000000   7.500000  60.000000          Labrador   M\n",
      "1    Bella  2017.000000   6.300000  55.000000            Beagle   F\n",
      "2      Max  2016.000000   8.000000  56.666667           Bulldog   M\n",
      "3     Lucy  2016.666667   5.400000  50.000000            Poodle   F\n",
      "4      NaN  2019.000000   6.866667  70.000000  Golden Retriever   M\n",
      "5  Charlie  2015.000000   9.200000  60.000000         Dachshund   F\n",
      "6    Daisy  2018.000000   4.800000  45.000000               NaN   F\n"
     ]
    }
   ],
   "source": [
    "#当然，你也可以选用其他办法填充缺失值，例如把缺失值填充为该列的非缺失行的平均值\n",
    "#TODO\n",
    "# 使用 fillna() 填充缺失值为该列的平均值（仅针对数值型列）\n",
    "dog_pack['weight_kg'] = dog_pack['weight_kg'].fillna(dog_pack['weight_kg'].mean())\n",
    "dog_pack['height_cm'] = dog_pack['height_cm'].fillna(dog_pack['height_cm'].mean())\n",
    "dog_pack['year'] = dog_pack['year'].fillna(dog_pack['year'].mean())\n",
    "print(dog_pack)"
   ]
  },
  {
   "cell_type": "markdown",
   "id": "9fff90da-ae95-4fb3-bab6-08dfac8d2af8",
   "metadata": {},
   "source": [
    "# dataframe与csv"
   ]
  },
  {
   "cell_type": "code",
   "execution_count": 95,
   "id": "112fbbda",
   "metadata": {},
   "outputs": [],
   "source": [
    "from sklearn.datasets import load_iris\n",
    "iris = load_iris()\n",
    "iris_df = pd.DataFrame(data=iris.data, columns=iris.feature_names)\n",
    "iris_df['target'] = iris.target"
   ]
  },
  {
   "cell_type": "code",
   "execution_count": 96,
   "id": "c9e8aa8f-b331-45cd-91f9-a61d4894653b",
   "metadata": {},
   "outputs": [],
   "source": [
    "#dataframe.to_csv将iris_df写入文件金盏花数据集.csv文件\n",
    "#TODO\n",
    "iris_df.to_csv('lab1_20241130_iris_data.csv', index=False)"
   ]
  },
  {
   "cell_type": "code",
   "execution_count": 97,
   "id": "374ba360",
   "metadata": {},
   "outputs": [],
   "source": [
    "#dataframe.to_excel将iris_df写入金盏花数据集.xlsx文件\n",
    "#TODO\n",
    "iris_df.to_excel('lab1_20241130_iris_datairis_data.xlsx', index=False, engine='openpyxl')"
   ]
  },
  {
   "cell_type": "code",
   "execution_count": 98,
   "id": "c7d8f8cb",
   "metadata": {},
   "outputs": [],
   "source": [
    "#dataframe.to_json将iris_df写入金盏花数据集.json文件\n",
    "#TODO\n",
    "iris_df.to_json('lab1_20241130_iris_data.json', orient='records', lines=True)"
   ]
  },
  {
   "cell_type": "code",
   "execution_count": 99,
   "id": "9951b9ad",
   "metadata": {},
   "outputs": [
    {
     "name": "stdout",
     "output_type": "stream",
     "text": [
      "   sepal length (cm)  sepal width (cm)  petal length (cm)  petal width (cm)  \\\n",
      "0                5.1               3.5                1.4               0.2   \n",
      "1                4.9               3.0                1.4               0.2   \n",
      "2                4.7               3.2                1.3               0.2   \n",
      "3                4.6               3.1                1.5               0.2   \n",
      "4                5.0               3.6                1.4               0.2   \n",
      "\n",
      "   target  \n",
      "0       0  \n",
      "1       0  \n",
      "2       0  \n",
      "3       0  \n",
      "4       0  \n"
     ]
    }
   ],
   "source": [
    "#使用pandas.read_csv读取金盏花数据集.csv数据文件\n",
    "#TODO\n",
    "iris_df = pd.read_csv('lab1_20241130_iris_data.csv')\n",
    "print(iris_df.head())"
   ]
  },
  {
   "cell_type": "code",
   "execution_count": null,
   "id": "4033ec44",
   "metadata": {},
   "outputs": [
    {
     "name": "stdout",
     "output_type": "stream",
     "text": [
      "   sepal length (cm)  sepal width (cm)  petal length (cm)  petal width (cm)  \\\n",
      "0                5.1               3.5                1.4               0.2   \n",
      "1                4.9               3.0                1.4               0.2   \n",
      "2                4.7               3.2                1.3               0.2   \n",
      "3                4.6               3.1                1.5               0.2   \n",
      "4                5.0               3.6                1.4               0.2   \n",
      "\n",
      "   target  \n",
      "0       0  \n",
      "1       0  \n",
      "2       0  \n",
      "3       0  \n",
      "4       0  \n"
     ]
    }
   ],
   "source": [
    "#使用pandas.read_excel读取金盏花数据集.xlsx数据文件\n",
    "#TODO\n",
    "iris_df = pd.read_excel('lab1_20241130_iris_data.xlsx', engine='openpyxl')\n",
    "print(iris_df.head())"
   ]
  },
  {
   "cell_type": "code",
   "execution_count": 103,
   "id": "dd5be242",
   "metadata": {},
   "outputs": [
    {
     "name": "stdout",
     "output_type": "stream",
     "text": [
      "   sepal length (cm)  sepal width (cm)  petal length (cm)  petal width (cm)  \\\n",
      "0                5.1               3.5                1.4               0.2   \n",
      "1                4.9               3.0                1.4               0.2   \n",
      "2                4.7               3.2                1.3               0.2   \n",
      "3                4.6               3.1                1.5               0.2   \n",
      "4                5.0               3.6                1.4               0.2   \n",
      "\n",
      "   target  \n",
      "0       0  \n",
      "1       0  \n",
      "2       0  \n",
      "3       0  \n",
      "4       0  \n"
     ]
    }
   ],
   "source": [
    "#使用pandas.read_json读取金盏花数据集.json数据文件\n",
    "#TODO\n",
    "iris_df = pd.read_json('lab1_20241130_iris_data.json', lines=True)\n",
    "print(iris_df.head())"
   ]
  },
  {
   "cell_type": "markdown",
   "id": "07b33cda",
   "metadata": {},
   "source": [
    "# 综合\n",
    "## 任务背景：\n",
    "你收到了一份包含公司员工的基本数据集，数据包括员工的个人信息（如姓名、年龄、薪资、部门等）。由于数据采集存在问题，数据中包含缺失值、异常值和格式错误。你需要清洗数据、处理异常值、执行数据分析，并进行数据可视化。\n",
    "\n",
    "## 数据准备：\n",
    "以下是一个包含脏数据的员工信息数据集。任务中的数据存在：\n",
    "\n",
    "* 缺失值（如 Age 和 Salary）。\n",
    "* 异常值（如负数薪资，极端薪资）。\n",
    "* 格式错误（日期格式）。\n",
    "\n",
    "## 任务要求\n",
    "\n",
    "### 1. 数据预处理：\n",
    "\n",
    "#### 1.1 处理缺失值：\n",
    "- 检查 `Age` 和 `Salary` 列中的缺失值。\n",
    "- 对缺失值进行处理：\n",
    "  - 使用均值填充 `Age` 列的缺失值。\n",
    "  - 使用中位数填充 `Salary` 列的缺失值。\n",
    "\n",
    "#### 1.2 处理异常值：\n",
    "- 识别并处理 `Salary` 列中的异常值（如负值）。将负薪资值替换为 `NaN`，并用该列的中位数填充。\n",
    "\n",
    "### 2. 数据清洗与转换：\n",
    "\n",
    "#### 2.1 数据格式转换：\n",
    "- 将 `JoiningDate` 列的日期字符串转换为 `datetime` 格式，并确保日期格式一致。\n",
    "\n",
    "#### 2.2 删除重复数据：\n",
    "- 删除 `EmployeeID` 和 `Name` 列相同的重复数据。\n",
    "\n",
    "### 3. 数据分析：\n",
    "\n",
    "#### 3.1 部门薪资分析：\n",
    "- 使用 `groupby()` 按 `Department` 分组，计算每个部门的平均薪资，并输出结果。\n",
    "\n",
    "#### 3.2 性别薪资差异分析：\n",
    "- 使用 `groupby()` 按 `Gender` 分组，计算每个性别的平均薪资，并输出结果。\n",
    "\n",
    "### 4. 数据可视化：\n",
    "\n",
    "#### 4.1 部门薪资分布的条形图：\n",
    "- 绘制每个部门的薪资平均值的条形图。\n",
    "\n",
    "#### 4.2 薪资与年龄关系的散点图：\n",
    "- 绘制 `Salary` 和 `Age` 之间的散点图，展示薪资和年龄的关系。\n"
   ]
  },
  {
   "cell_type": "code",
   "execution_count": 105,
   "id": "0c02eb22",
   "metadata": {},
   "outputs": [],
   "source": [
    "import pandas as pd\n",
    "import numpy as np\n",
    "\n",
    "\n",
    "employee_data = {\n",
    "    'EmployeeID': [101, 102, 103, 104, 105, 106, 107, 108, 109, 110],\n",
    "    'Name': ['Alice', 'Bob', 'Charlie', 'David', 'Eve', 'Frank', 'Grace', 'Heidi', 'Ivan', 'Judy'],\n",
    "    'Age': [28, 34, 45, 38, np.nan, 50, 29, 31, 40, 60],\n",
    "    'Salary': [50000, 60000, -7000, 70000, 55000, 75000, 80000, np.nan, 62000, 65000],  # 异常值\n",
    "    'Department': ['HR', 'IT', 'Finance', 'Finance', 'IT', 'HR', 'HR', 'Finance', 'IT', 'HR'],\n",
    "    'Gender': ['F', 'M', 'M', 'M', 'F', 'M', 'F', 'F', 'M', 'F'],\n",
    "    'JoiningDate': ['2015-06-01', '2016-09-15', '2014-04-23', '2013-07-12', '2017-03-18', '2018-06-21', '2019-01-10', '2020-08-03', '2021-02-19', '2022-01-05']\n",
    "}\n",
    "\n",
    "\n",
    "employees = pd.DataFrame(employee_data)\n",
    "\n"
   ]
  },
  {
   "cell_type": "markdown",
   "id": "937148b4",
   "metadata": {},
   "source": []
  },
  {
   "cell_type": "code",
   "execution_count": 106,
   "id": "b55120a2",
   "metadata": {},
   "outputs": [
    {
     "name": "stdout",
     "output_type": "stream",
     "text": [
      "缺失值检查：\n",
      "Age       1\n",
      "Salary    1\n",
      "dtype: int64\n",
      "Age       0\n",
      "Salary    0\n",
      "dtype: int64\n",
      "   EmployeeID     Name        Age   Salary Department Gender JoiningDate\n",
      "0         101    Alice  28.000000  50000.0         HR      F  2015-06-01\n",
      "1         102      Bob  34.000000  60000.0         IT      M  2016-09-15\n",
      "2         103  Charlie  45.000000  -7000.0    Finance      M  2014-04-23\n",
      "3         104    David  38.000000  70000.0    Finance      M  2013-07-12\n",
      "4         105      Eve  39.444444  55000.0         IT      F  2017-03-18\n",
      "5         106    Frank  50.000000  75000.0         HR      M  2018-06-21\n",
      "6         107    Grace  29.000000  80000.0         HR      F  2019-01-10\n",
      "7         108    Heidi  31.000000  62000.0    Finance      F  2020-08-03\n",
      "8         109     Ivan  40.000000  62000.0         IT      M  2021-02-19\n",
      "9         110     Judy  60.000000  65000.0         HR      F  2022-01-05\n"
     ]
    }
   ],
   "source": [
    "#TODO\n",
    "# 1.1预处理部分\n",
    "# 检查Age和Salary列中的缺失值\n",
    "print(\"缺失值检查：\")\n",
    "print(employees[['Age', 'Salary']].isna().sum())\n",
    "\n",
    "\n",
    "employees['Age'].fillna(employees['Age'].mean(), inplace=True)\n",
    "employees['Salary'].fillna(employees['Salary'].median(), inplace=True)\n",
    "\n",
    "# 再次检查\n",
    "print(employees[['Age', 'Salary']].isna().sum())\n",
    "\n",
    "# 显示填充后的结果\n",
    "print(employees)"
   ]
  },
  {
   "cell_type": "code",
   "execution_count": 107,
   "id": "dd0314f7",
   "metadata": {},
   "outputs": [
    {
     "name": "stdout",
     "output_type": "stream",
     "text": [
      "   EmployeeID     Name        Age   Salary Department Gender JoiningDate\n",
      "0         101    Alice  28.000000  50000.0         HR      F  2015-06-01\n",
      "1         102      Bob  34.000000  60000.0         IT      M  2016-09-15\n",
      "2         103  Charlie  45.000000  62000.0    Finance      M  2014-04-23\n",
      "3         104    David  38.000000  70000.0    Finance      M  2013-07-12\n",
      "4         105      Eve  39.444444  55000.0         IT      F  2017-03-18\n",
      "5         106    Frank  50.000000  75000.0         HR      M  2018-06-21\n",
      "6         107    Grace  29.000000  80000.0         HR      F  2019-01-10\n",
      "7         108    Heidi  31.000000  62000.0    Finance      F  2020-08-03\n",
      "8         109     Ivan  40.000000  62000.0         IT      M  2021-02-19\n",
      "9         110     Judy  60.000000  65000.0         HR      F  2022-01-05\n"
     ]
    }
   ],
   "source": [
    "# 1.2处理异常值\n",
    "employees['Salary'] = employees['Salary'].apply(lambda x: np.nan if x < 0 else x)\n",
    "# 用Salary列的中位数填充NaN\n",
    "employees['Salary'].fillna(employees['Salary'].median(), inplace=True)\n",
    "\n",
    "print(employees)"
   ]
  },
  {
   "cell_type": "code",
   "execution_count": null,
   "id": "06593796",
   "metadata": {},
   "outputs": [
    {
     "name": "stdout",
     "output_type": "stream",
     "text": [
      "   EmployeeID     Name        Age   Salary Department Gender JoiningDate\n",
      "0         101    Alice  28.000000  50000.0         HR      F  2015-06-01\n",
      "1         102      Bob  34.000000  60000.0         IT      M  2016-09-15\n",
      "2         103  Charlie  45.000000  62000.0    Finance      M  2014-04-23\n",
      "3         104    David  38.000000  70000.0    Finance      M  2013-07-12\n",
      "4         105      Eve  39.444444  55000.0         IT      F  2017-03-18\n",
      "5         106    Frank  50.000000  75000.0         HR      M  2018-06-21\n",
      "6         107    Grace  29.000000  80000.0         HR      F  2019-01-10\n",
      "7         108    Heidi  31.000000  62000.0    Finance      F  2020-08-03\n",
      "8         109     Ivan  40.000000  62000.0         IT      M  2021-02-19\n",
      "9         110     Judy  60.000000  65000.0         HR      F  2022-01-05\n"
     ]
    }
   ],
   "source": [
    "# 2.1 数据格式\n",
    "# 将JoiningDate列转换为datetime格式\n",
    "employees['JoiningDate'] = pd.to_datetime(employees['JoiningDate'], format='%Y-%m-%d')\n",
    "\n",
    "print(employees)"
   ]
  },
  {
   "cell_type": "code",
   "execution_count": 109,
   "id": "c0640330",
   "metadata": {},
   "outputs": [
    {
     "name": "stdout",
     "output_type": "stream",
     "text": [
      "   EmployeeID     Name        Age   Salary Department Gender JoiningDate\n",
      "0         101    Alice  28.000000  50000.0         HR      F  2015-06-01\n",
      "1         102      Bob  34.000000  60000.0         IT      M  2016-09-15\n",
      "2         103  Charlie  45.000000  62000.0    Finance      M  2014-04-23\n",
      "3         104    David  38.000000  70000.0    Finance      M  2013-07-12\n",
      "4         105      Eve  39.444444  55000.0         IT      F  2017-03-18\n",
      "5         106    Frank  50.000000  75000.0         HR      M  2018-06-21\n",
      "6         107    Grace  29.000000  80000.0         HR      F  2019-01-10\n",
      "7         108    Heidi  31.000000  62000.0    Finance      F  2020-08-03\n",
      "8         109     Ivan  40.000000  62000.0         IT      M  2021-02-19\n",
      "9         110     Judy  60.000000  65000.0         HR      F  2022-01-05\n"
     ]
    }
   ],
   "source": [
    "# 2.2删除重复数据\n",
    "employees_delete = employees.drop_duplicates(subset=['EmployeeID', 'Name'], keep='first')\n",
    "\n",
    "print(employees_delete)"
   ]
  },
  {
   "cell_type": "code",
   "execution_count": 110,
   "id": "68f8e96f",
   "metadata": {},
   "outputs": [
    {
     "name": "stdout",
     "output_type": "stream",
     "text": [
      "Department\n",
      "Finance    64666.666667\n",
      "HR         67500.000000\n",
      "IT         59000.000000\n",
      "Name: Salary, dtype: float64\n",
      "Gender\n",
      "F    62400.0\n",
      "M    65800.0\n",
      "Name: Salary, dtype: float64\n"
     ]
    }
   ],
   "source": [
    "# 3.1 3.2 数据分析\n",
    "# 按照 'Department' 分组，计算每个部门的平均薪资\n",
    "department_salary = employees.groupby('Department')['Salary'].mean()\n",
    "print(department_salary)\n",
    "# 按照 'Gender' 分组，计算每个性别的平均薪资\n",
    "gender_salary = employees.groupby('Gender')['Salary'].mean()\n",
    "print(gender_salary)"
   ]
  },
  {
   "cell_type": "code",
   "execution_count": 114,
   "id": "12ea55b3",
   "metadata": {},
   "outputs": [
    {
     "data": {
      "image/png": "[encoded data removed]",
      "text/plain": [
       "<Figure size 800x600 with 1 Axes>"
      ]
     },
     "metadata": {},
     "output_type": "display_data"
    }
   ],
   "source": [
    "# 4.1 可视化\n",
    "department_salary = employees_delete.groupby('Department')['Salary'].mean()\n",
    "\n",
    "plt.figure(figsize=(8, 6))\n",
    "department_salary.plot(kind='bar', color='orange')\n",
    "\n",
    "plt.title('Average Salary by Department', fontsize=14)\n",
    "plt.xlabel('Department', fontsize=12)\n",
    "plt.ylabel('Average Salary', fontsize=12)\n",
    "plt.xticks(rotation=45)\n",
    "plt.tight_layout()\n",
    "plt.show()"
   ]
  },
  {
   "cell_type": "code",
   "execution_count": 113,
   "id": "50446e4d",
   "metadata": {},
   "outputs": [
    {
     "data": {
      "image/png": "[encoded data removed]",
      "text/plain": [
       "<Figure size 800x600 with 1 Axes>"
      ]
     },
     "metadata": {},
     "output_type": "display_data"
    }
   ],
   "source": [
    "# 4.2 可视化\n",
    "plt.figure(figsize=(8, 6))\n",
    "plt.scatter(employees_delete['Age'], employees['Salary'], color='teal', alpha=0.7)\n",
    "plt.title('Salary vs Age', fontsize=14)\n",
    "plt.xlabel('Age', fontsize=12)\n",
    "plt.ylabel('Salary', fontsize=12)\n",
    "\n",
    "plt.tight_layout()\n",
    "plt.show()"
   ]
  }
 ],
 "metadata": {
  "kernelspec": {
   "display_name": "Python 3",
   "language": "python",
   "name": "python3"
  },
  "language_info": {
   "codemirror_mode": {
    "name": "ipython",
    "version": 3
   },
   "file_extension": ".py",
   "mimetype": "text/x-python",
   "name": "python",
   "nbconvert_exporter": "python",
   "pygments_lexer": "ipython3",
   "version": "3.9.2"
  }
 },
 "nbformat": 4,
 "nbformat_minor": 5
}
